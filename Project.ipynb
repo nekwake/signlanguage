{
 "cells": [
  {
   "cell_type": "code",
   "execution_count": 17,
   "id": "c6bb45cf-50ee-4b3c-8563-2de87552c454",
   "metadata": {},
   "outputs": [
    {
     "name": "stdout",
     "output_type": "stream",
     "text": [
      "Requirement already satisfied: tensorflow==2.8.1 in c:\\users\\ilker\\appdata\\roaming\\python\\python310\\site-packages (2.8.1)\n",
      "Requirement already satisfied: tensorflow-gpu==2.8.1 in c:\\users\\ilker\\appdata\\roaming\\python\\python310\\site-packages (2.8.1)\n",
      "Requirement already satisfied: opencv-python in c:\\users\\ilker\\appdata\\local\\programs\\python\\python310\\lib\\site-packages (4.8.1.78)\n",
      "Requirement already satisfied: mediapipe in c:\\users\\ilker\\appdata\\roaming\\python\\python310\\site-packages (0.10.7)\n",
      "Requirement already satisfied: sklearn in c:\\users\\ilker\\appdata\\local\\programs\\python\\python310\\lib\\site-packages (0.0.post10)\n",
      "Requirement already satisfied: matplotlib in c:\\users\\ilker\\appdata\\local\\programs\\python\\python310\\lib\\site-packages (3.8.0)\n",
      "Requirement already satisfied: absl-py>=0.4.0 in c:\\users\\ilker\\appdata\\roaming\\python\\python310\\site-packages (from tensorflow==2.8.1) (2.0.0)\n",
      "Requirement already satisfied: astunparse>=1.6.0 in c:\\users\\ilker\\appdata\\roaming\\python\\python310\\site-packages (from tensorflow==2.8.1) (1.6.3)\n",
      "Requirement already satisfied: flatbuffers>=1.12 in c:\\users\\ilker\\appdata\\roaming\\python\\python310\\site-packages (from tensorflow==2.8.1) (23.5.26)\n",
      "Requirement already satisfied: gast>=0.2.1 in c:\\users\\ilker\\appdata\\roaming\\python\\python310\\site-packages (from tensorflow==2.8.1) (0.5.4)\n",
      "Requirement already satisfied: google-pasta>=0.1.1 in c:\\users\\ilker\\appdata\\roaming\\python\\python310\\site-packages (from tensorflow==2.8.1) (0.2.0)\n",
      "Requirement already satisfied: h5py>=2.9.0 in c:\\users\\ilker\\appdata\\roaming\\python\\python310\\site-packages (from tensorflow==2.8.1) (3.10.0)\n",
      "Requirement already satisfied: keras-preprocessing>=1.1.1 in c:\\users\\ilker\\appdata\\roaming\\python\\python310\\site-packages (from tensorflow==2.8.1) (1.1.2)\n",
      "Requirement already satisfied: libclang>=9.0.1 in c:\\users\\ilker\\appdata\\roaming\\python\\python310\\site-packages (from tensorflow==2.8.1) (16.0.6)\n",
      "Requirement already satisfied: numpy>=1.20 in c:\\users\\ilker\\appdata\\local\\programs\\python\\python310\\lib\\site-packages (from tensorflow==2.8.1) (1.26.1)\n",
      "Requirement already satisfied: opt-einsum>=2.3.2 in c:\\users\\ilker\\appdata\\roaming\\python\\python310\\site-packages (from tensorflow==2.8.1) (3.3.0)\n",
      "Requirement already satisfied: protobuf>=3.9.2 in c:\\users\\ilker\\appdata\\roaming\\python\\python310\\site-packages (from tensorflow==2.8.1) (3.20.3)\n",
      "Requirement already satisfied: setuptools in c:\\users\\ilker\\appdata\\local\\programs\\python\\python310\\lib\\site-packages (from tensorflow==2.8.1) (65.5.0)\n",
      "Requirement already satisfied: six>=1.12.0 in c:\\users\\ilker\\appdata\\local\\programs\\python\\python310\\lib\\site-packages (from tensorflow==2.8.1) (1.16.0)\n",
      "Requirement already satisfied: termcolor>=1.1.0 in c:\\users\\ilker\\appdata\\roaming\\python\\python310\\site-packages (from tensorflow==2.8.1) (2.3.0)\n",
      "Requirement already satisfied: typing-extensions>=3.6.6 in c:\\users\\ilker\\appdata\\local\\programs\\python\\python310\\lib\\site-packages (from tensorflow==2.8.1) (4.8.0)\n",
      "Requirement already satisfied: wrapt>=1.11.0 in c:\\users\\ilker\\appdata\\roaming\\python\\python310\\site-packages (from tensorflow==2.8.1) (1.15.0)\n",
      "Requirement already satisfied: tensorboard<2.9,>=2.8 in c:\\users\\ilker\\appdata\\roaming\\python\\python310\\site-packages (from tensorflow==2.8.1) (2.8.0)\n",
      "Requirement already satisfied: tensorflow-estimator<2.9,>=2.8 in c:\\users\\ilker\\appdata\\roaming\\python\\python310\\site-packages (from tensorflow==2.8.1) (2.8.0)\n",
      "Requirement already satisfied: keras<2.9,>=2.8.0rc0 in c:\\users\\ilker\\appdata\\roaming\\python\\python310\\site-packages (from tensorflow==2.8.1) (2.8.0)\n",
      "Requirement already satisfied: tensorflow-io-gcs-filesystem>=0.23.1 in c:\\users\\ilker\\appdata\\roaming\\python\\python310\\site-packages (from tensorflow==2.8.1) (0.31.0)\n",
      "Requirement already satisfied: grpcio<2.0,>=1.24.3 in c:\\users\\ilker\\appdata\\roaming\\python\\python310\\site-packages (from tensorflow==2.8.1) (1.59.0)\n",
      "Requirement already satisfied: attrs>=19.1.0 in c:\\users\\ilker\\appdata\\local\\programs\\python\\python310\\lib\\site-packages (from mediapipe) (23.1.0)\n",
      "Requirement already satisfied: opencv-contrib-python in c:\\users\\ilker\\appdata\\roaming\\python\\python310\\site-packages (from mediapipe) (4.8.1.78)\n",
      "Requirement already satisfied: sounddevice>=0.4.4 in c:\\users\\ilker\\appdata\\roaming\\python\\python310\\site-packages (from mediapipe) (0.4.6)\n",
      "Requirement already satisfied: contourpy>=1.0.1 in c:\\users\\ilker\\appdata\\roaming\\python\\python310\\site-packages (from matplotlib) (1.1.1)\n",
      "Requirement already satisfied: cycler>=0.10 in c:\\users\\ilker\\appdata\\local\\programs\\python\\python310\\lib\\site-packages (from matplotlib) (0.12.1)\n",
      "Requirement already satisfied: fonttools>=4.22.0 in c:\\users\\ilker\\appdata\\roaming\\python\\python310\\site-packages (from matplotlib) (4.43.1)\n",
      "Requirement already satisfied: kiwisolver>=1.0.1 in c:\\users\\ilker\\appdata\\local\\programs\\python\\python310\\lib\\site-packages (from matplotlib) (1.4.5)\n",
      "Requirement already satisfied: packaging>=20.0 in c:\\users\\ilker\\appdata\\local\\programs\\python\\python310\\lib\\site-packages (from matplotlib) (23.2)\n",
      "Requirement already satisfied: pillow>=6.2.0 in c:\\users\\ilker\\appdata\\local\\programs\\python\\python310\\lib\\site-packages (from matplotlib) (10.1.0)\n",
      "Requirement already satisfied: pyparsing>=2.3.1 in c:\\users\\ilker\\appdata\\local\\programs\\python\\python310\\lib\\site-packages (from matplotlib) (3.1.1)\n",
      "Requirement already satisfied: python-dateutil>=2.7 in c:\\users\\ilker\\appdata\\local\\programs\\python\\python310\\lib\\site-packages (from matplotlib) (2.8.2)\n",
      "Requirement already satisfied: wheel<1.0,>=0.23.0 in c:\\users\\ilker\\appdata\\roaming\\python\\python310\\site-packages (from astunparse>=1.6.0->tensorflow==2.8.1) (0.41.2)\n",
      "Requirement already satisfied: CFFI>=1.0 in c:\\users\\ilker\\appdata\\local\\programs\\python\\python310\\lib\\site-packages (from sounddevice>=0.4.4->mediapipe) (1.16.0)\n",
      "Requirement already satisfied: google-auth<3,>=1.6.3 in c:\\users\\ilker\\appdata\\roaming\\python\\python310\\site-packages (from tensorboard<2.9,>=2.8->tensorflow==2.8.1) (2.23.3)\n",
      "Requirement already satisfied: google-auth-oauthlib<0.5,>=0.4.1 in c:\\users\\ilker\\appdata\\roaming\\python\\python310\\site-packages (from tensorboard<2.9,>=2.8->tensorflow==2.8.1) (0.4.6)\n",
      "Requirement already satisfied: markdown>=2.6.8 in c:\\users\\ilker\\appdata\\roaming\\python\\python310\\site-packages (from tensorboard<2.9,>=2.8->tensorflow==2.8.1) (3.5)\n",
      "Requirement already satisfied: requests<3,>=2.21.0 in c:\\users\\ilker\\appdata\\local\\programs\\python\\python310\\lib\\site-packages (from tensorboard<2.9,>=2.8->tensorflow==2.8.1) (2.31.0)\n",
      "Requirement already satisfied: tensorboard-data-server<0.7.0,>=0.6.0 in c:\\users\\ilker\\appdata\\roaming\\python\\python310\\site-packages (from tensorboard<2.9,>=2.8->tensorflow==2.8.1) (0.6.1)\n",
      "Requirement already satisfied: tensorboard-plugin-wit>=1.6.0 in c:\\users\\ilker\\appdata\\roaming\\python\\python310\\site-packages (from tensorboard<2.9,>=2.8->tensorflow==2.8.1) (1.8.1)\n",
      "Requirement already satisfied: werkzeug>=0.11.15 in c:\\users\\ilker\\appdata\\roaming\\python\\python310\\site-packages (from tensorboard<2.9,>=2.8->tensorflow==2.8.1) (3.0.1)\n",
      "Requirement already satisfied: pycparser in c:\\users\\ilker\\appdata\\local\\programs\\python\\python310\\lib\\site-packages (from CFFI>=1.0->sounddevice>=0.4.4->mediapipe) (2.21)\n",
      "Requirement already satisfied: cachetools<6.0,>=2.0.0 in c:\\users\\ilker\\appdata\\roaming\\python\\python310\\site-packages (from google-auth<3,>=1.6.3->tensorboard<2.9,>=2.8->tensorflow==2.8.1) (5.3.2)\n",
      "Requirement already satisfied: pyasn1-modules>=0.2.1 in c:\\users\\ilker\\appdata\\roaming\\python\\python310\\site-packages (from google-auth<3,>=1.6.3->tensorboard<2.9,>=2.8->tensorflow==2.8.1) (0.3.0)\n",
      "Requirement already satisfied: rsa<5,>=3.1.4 in c:\\users\\ilker\\appdata\\roaming\\python\\python310\\site-packages (from google-auth<3,>=1.6.3->tensorboard<2.9,>=2.8->tensorflow==2.8.1) (4.9)\n",
      "Requirement already satisfied: requests-oauthlib>=0.7.0 in c:\\users\\ilker\\appdata\\roaming\\python\\python310\\site-packages (from google-auth-oauthlib<0.5,>=0.4.1->tensorboard<2.9,>=2.8->tensorflow==2.8.1) (1.3.1)\n",
      "Requirement already satisfied: charset-normalizer<4,>=2 in c:\\users\\ilker\\appdata\\local\\programs\\python\\python310\\lib\\site-packages (from requests<3,>=2.21.0->tensorboard<2.9,>=2.8->tensorflow==2.8.1) (3.3.1)\n",
      "Requirement already satisfied: idna<4,>=2.5 in c:\\users\\ilker\\appdata\\local\\programs\\python\\python310\\lib\\site-packages (from requests<3,>=2.21.0->tensorboard<2.9,>=2.8->tensorflow==2.8.1) (3.4)\n",
      "Requirement already satisfied: urllib3<3,>=1.21.1 in c:\\users\\ilker\\appdata\\local\\programs\\python\\python310\\lib\\site-packages (from requests<3,>=2.21.0->tensorboard<2.9,>=2.8->tensorflow==2.8.1) (2.0.7)\n",
      "Requirement already satisfied: certifi>=2017.4.17 in c:\\users\\ilker\\appdata\\local\\programs\\python\\python310\\lib\\site-packages (from requests<3,>=2.21.0->tensorboard<2.9,>=2.8->tensorflow==2.8.1) (2023.7.22)\n",
      "Requirement already satisfied: MarkupSafe>=2.1.1 in c:\\users\\ilker\\appdata\\local\\programs\\python\\python310\\lib\\site-packages (from werkzeug>=0.11.15->tensorboard<2.9,>=2.8->tensorflow==2.8.1) (2.1.3)\n",
      "Requirement already satisfied: pyasn1<0.6.0,>=0.4.6 in c:\\users\\ilker\\appdata\\roaming\\python\\python310\\site-packages (from pyasn1-modules>=0.2.1->google-auth<3,>=1.6.3->tensorboard<2.9,>=2.8->tensorflow==2.8.1) (0.5.0)\n",
      "Requirement already satisfied: oauthlib>=3.0.0 in c:\\users\\ilker\\appdata\\roaming\\python\\python310\\site-packages (from requests-oauthlib>=0.7.0->google-auth-oauthlib<0.5,>=0.4.1->tensorboard<2.9,>=2.8->tensorflow==2.8.1) (3.2.2)\n"
     ]
    }
   ],
   "source": [
    "!pip install tensorflow==2.8.1 tensorflow-gpu==2.8.1 opencv-python mediapipe sklearn matplotlib"
   ]
  },
  {
   "cell_type": "code",
   "execution_count": 18,
   "id": "65f4799f-5b5a-48e3-a638-3b0dca1b925b",
   "metadata": {},
   "outputs": [],
   "source": [
    "import cv2\n",
    "import numpy as np\n",
    "import os\n",
    "from matplotlib import pyplot as plt\n",
    "import time\n",
    "import mediapipe as mp"
   ]
  },
  {
   "cell_type": "code",
   "execution_count": 19,
   "id": "a045db3e-7bfb-4be0-b6ff-08648311052a",
   "metadata": {},
   "outputs": [],
   "source": [
    "mp_holistic = mp.solutions.holistic\n",
    "mp_drawing = mp.solutions.drawing_utils"
   ]
  },
  {
   "cell_type": "code",
   "execution_count": 20,
   "id": "2a0dde6a-785d-4af0-bd4b-a8f77d94f0c6",
   "metadata": {},
   "outputs": [],
   "source": [
    "def mediapipe_detection(image, model):\n",
    "    image = cv2.cvtColor (image, cv2.COLOR_BGR2RGB)\n",
    "    image.flags.writeable = False\n",
    "    results = model.process (image)\n",
    "    image.flags.writeable = True\n",
    "    image = cv2.cvtColor (image, cv2.COLOR_RGB2BGR)\n",
    "    return image, results"
   ]
  },
  {
   "cell_type": "code",
   "execution_count": 21,
   "id": "cd272577-d373-4043-9fc6-69cfd5beafed",
   "metadata": {},
   "outputs": [
    {
     "data": {
      "text/plain": [
       "\u001b[1;31mDocstring:\u001b[0m\n",
       "cvtColor(src, code[, dst[, dstCn]]) -> dst\n",
       ".   @brief Converts an image from one color space to another.\n",
       ".   \n",
       ".   The function converts an input image from one color space to another. In case of a transformation\n",
       ".   to-from RGB color space, the order of the channels should be specified explicitly (RGB or BGR). Note\n",
       ".   that the default color format in OpenCV is often referred to as RGB but it is actually BGR (the\n",
       ".   bytes are reversed). So the first byte in a standard (24-bit) color image will be an 8-bit Blue\n",
       ".   component, the second byte will be Green, and the third byte will be Red. The fourth, fifth, and\n",
       ".   sixth bytes would then be the second pixel (Blue, then Green, then Red), and so on.\n",
       ".   \n",
       ".   The conventional ranges for R, G, and B channel values are:\n",
       ".   -   0 to 255 for CV_8U images\n",
       ".   -   0 to 65535 for CV_16U images\n",
       ".   -   0 to 1 for CV_32F images\n",
       ".   \n",
       ".   In case of linear transformations, the range does not matter. But in case of a non-linear\n",
       ".   transformation, an input RGB image should be normalized to the proper value range to get the correct\n",
       ".   results, for example, for RGB \\f$\\rightarrow\\f$ L\\*u\\*v\\* transformation. For example, if you have a\n",
       ".   32-bit floating-point image directly converted from an 8-bit image without any scaling, then it will\n",
       ".   have the 0..255 value range instead of 0..1 assumed by the function. So, before calling #cvtColor ,\n",
       ".   you need first to scale the image down:\n",
       ".   @code\n",
       ".       img *= 1./255;\n",
       ".       cvtColor(img, img, COLOR_BGR2Luv);\n",
       ".   @endcode\n",
       ".   If you use #cvtColor with 8-bit images, the conversion will have some information lost. For many\n",
       ".   applications, this will not be noticeable but it is recommended to use 32-bit images in applications\n",
       ".   that need the full range of colors or that convert an image before an operation and then convert\n",
       ".   back.\n",
       ".   \n",
       ".   If conversion adds the alpha channel, its value will set to the maximum of corresponding channel\n",
       ".   range: 255 for CV_8U, 65535 for CV_16U, 1 for CV_32F.\n",
       ".   \n",
       ".   @param src input image: 8-bit unsigned, 16-bit unsigned ( CV_16UC... ), or single-precision\n",
       ".   floating-point.\n",
       ".   @param dst output image of the same size and depth as src.\n",
       ".   @param code color space conversion code (see #ColorConversionCodes).\n",
       ".   @param dstCn number of channels in the destination image; if the parameter is 0, the number of the\n",
       ".   channels is derived automatically from src and code.\n",
       ".   \n",
       ".   @see @ref imgproc_color_conversions\n",
       "\u001b[1;31mType:\u001b[0m      builtin_function_or_method"
      ]
     },
     "metadata": {},
     "output_type": "display_data"
    }
   ],
   "source": [
    "def draw_landmarks (image, results):\n",
    "    mp_drawing.draw_landmarks(image, results.face_landmarks, mp_holistic.FACE_CONNECTIONS)\n",
    "    mp_drawing.draw_landmarks(image, results.pose_landmarks, mp_holistic.POSE_CONNECTIONS)\n",
    "    mp drawing.draw_landmarks(image, results.left_hand_landmarks, mp holistic.HAND_CONNECTIONS)\n",
    "    mp_drawing.draw_landmarks(image, results.righ_hand_landmarks, mp_holistic.HAND_CONNECTIONS)"
   ]
  },
  {
   "cell_type": "code",
   "execution_count": null,
   "id": "21a33df5-5547-4120-bfe2-a20f54dec1eb",
   "metadata": {},
   "outputs": [],
   "source": []
  },
  {
   "cell_type": "code",
   "execution_count": 29,
   "id": "0bb416b2-68e8-41b0-9d32-ab5d87f1fb84",
   "metadata": {
    "scrolled": true
   },
   "outputs": [
    {
     "name": "stdout",
     "output_type": "stream",
     "text": [
      "<class 'mediapipe.python.solution_base.SolutionOutputs'>\n",
      "<class 'mediapipe.python.solution_base.SolutionOutputs'>\n",
      "<class 'mediapipe.python.solution_base.SolutionOutputs'>\n",
      "<class 'mediapipe.python.solution_base.SolutionOutputs'>\n",
      "<class 'mediapipe.python.solution_base.SolutionOutputs'>\n",
      "<class 'mediapipe.python.solution_base.SolutionOutputs'>\n",
      "<class 'mediapipe.python.solution_base.SolutionOutputs'>\n",
      "<class 'mediapipe.python.solution_base.SolutionOutputs'>\n",
      "<class 'mediapipe.python.solution_base.SolutionOutputs'>\n",
      "<class 'mediapipe.python.solution_base.SolutionOutputs'>\n",
      "<class 'mediapipe.python.solution_base.SolutionOutputs'>\n",
      "<class 'mediapipe.python.solution_base.SolutionOutputs'>\n",
      "<class 'mediapipe.python.solution_base.SolutionOutputs'>\n",
      "<class 'mediapipe.python.solution_base.SolutionOutputs'>\n",
      "<class 'mediapipe.python.solution_base.SolutionOutputs'>\n",
      "<class 'mediapipe.python.solution_base.SolutionOutputs'>\n",
      "<class 'mediapipe.python.solution_base.SolutionOutputs'>\n",
      "<class 'mediapipe.python.solution_base.SolutionOutputs'>\n",
      "<class 'mediapipe.python.solution_base.SolutionOutputs'>\n",
      "<class 'mediapipe.python.solution_base.SolutionOutputs'>\n",
      "<class 'mediapipe.python.solution_base.SolutionOutputs'>\n",
      "<class 'mediapipe.python.solution_base.SolutionOutputs'>\n",
      "<class 'mediapipe.python.solution_base.SolutionOutputs'>\n",
      "<class 'mediapipe.python.solution_base.SolutionOutputs'>\n",
      "<class 'mediapipe.python.solution_base.SolutionOutputs'>\n",
      "<class 'mediapipe.python.solution_base.SolutionOutputs'>\n",
      "<class 'mediapipe.python.solution_base.SolutionOutputs'>\n",
      "<class 'mediapipe.python.solution_base.SolutionOutputs'>\n",
      "<class 'mediapipe.python.solution_base.SolutionOutputs'>\n",
      "<class 'mediapipe.python.solution_base.SolutionOutputs'>\n",
      "<class 'mediapipe.python.solution_base.SolutionOutputs'>\n",
      "<class 'mediapipe.python.solution_base.SolutionOutputs'>\n",
      "<class 'mediapipe.python.solution_base.SolutionOutputs'>\n",
      "<class 'mediapipe.python.solution_base.SolutionOutputs'>\n",
      "<class 'mediapipe.python.solution_base.SolutionOutputs'>\n",
      "<class 'mediapipe.python.solution_base.SolutionOutputs'>\n",
      "<class 'mediapipe.python.solution_base.SolutionOutputs'>\n",
      "<class 'mediapipe.python.solution_base.SolutionOutputs'>\n",
      "<class 'mediapipe.python.solution_base.SolutionOutputs'>\n",
      "<class 'mediapipe.python.solution_base.SolutionOutputs'>\n",
      "<class 'mediapipe.python.solution_base.SolutionOutputs'>\n",
      "<class 'mediapipe.python.solution_base.SolutionOutputs'>\n",
      "<class 'mediapipe.python.solution_base.SolutionOutputs'>\n",
      "<class 'mediapipe.python.solution_base.SolutionOutputs'>\n",
      "<class 'mediapipe.python.solution_base.SolutionOutputs'>\n",
      "<class 'mediapipe.python.solution_base.SolutionOutputs'>\n",
      "<class 'mediapipe.python.solution_base.SolutionOutputs'>\n",
      "<class 'mediapipe.python.solution_base.SolutionOutputs'>\n",
      "<class 'mediapipe.python.solution_base.SolutionOutputs'>\n",
      "<class 'mediapipe.python.solution_base.SolutionOutputs'>\n",
      "<class 'mediapipe.python.solution_base.SolutionOutputs'>\n",
      "<class 'mediapipe.python.solution_base.SolutionOutputs'>\n",
      "<class 'mediapipe.python.solution_base.SolutionOutputs'>\n",
      "<class 'mediapipe.python.solution_base.SolutionOutputs'>\n",
      "<class 'mediapipe.python.solution_base.SolutionOutputs'>\n",
      "<class 'mediapipe.python.solution_base.SolutionOutputs'>\n",
      "<class 'mediapipe.python.solution_base.SolutionOutputs'>\n",
      "<class 'mediapipe.python.solution_base.SolutionOutputs'>\n",
      "<class 'mediapipe.python.solution_base.SolutionOutputs'>\n",
      "<class 'mediapipe.python.solution_base.SolutionOutputs'>\n",
      "<class 'mediapipe.python.solution_base.SolutionOutputs'>\n",
      "<class 'mediapipe.python.solution_base.SolutionOutputs'>\n",
      "<class 'mediapipe.python.solution_base.SolutionOutputs'>\n",
      "<class 'mediapipe.python.solution_base.SolutionOutputs'>\n",
      "<class 'mediapipe.python.solution_base.SolutionOutputs'>\n",
      "<class 'mediapipe.python.solution_base.SolutionOutputs'>\n",
      "<class 'mediapipe.python.solution_base.SolutionOutputs'>\n",
      "<class 'mediapipe.python.solution_base.SolutionOutputs'>\n",
      "<class 'mediapipe.python.solution_base.SolutionOutputs'>\n",
      "<class 'mediapipe.python.solution_base.SolutionOutputs'>\n",
      "<class 'mediapipe.python.solution_base.SolutionOutputs'>\n",
      "<class 'mediapipe.python.solution_base.SolutionOutputs'>\n",
      "<class 'mediapipe.python.solution_base.SolutionOutputs'>\n",
      "<class 'mediapipe.python.solution_base.SolutionOutputs'>\n",
      "<class 'mediapipe.python.solution_base.SolutionOutputs'>\n",
      "<class 'mediapipe.python.solution_base.SolutionOutputs'>\n",
      "<class 'mediapipe.python.solution_base.SolutionOutputs'>\n",
      "<class 'mediapipe.python.solution_base.SolutionOutputs'>\n",
      "<class 'mediapipe.python.solution_base.SolutionOutputs'>\n",
      "<class 'mediapipe.python.solution_base.SolutionOutputs'>\n",
      "<class 'mediapipe.python.solution_base.SolutionOutputs'>\n",
      "<class 'mediapipe.python.solution_base.SolutionOutputs'>\n",
      "<class 'mediapipe.python.solution_base.SolutionOutputs'>\n",
      "<class 'mediapipe.python.solution_base.SolutionOutputs'>\n",
      "<class 'mediapipe.python.solution_base.SolutionOutputs'>\n",
      "<class 'mediapipe.python.solution_base.SolutionOutputs'>\n",
      "<class 'mediapipe.python.solution_base.SolutionOutputs'>\n",
      "<class 'mediapipe.python.solution_base.SolutionOutputs'>\n",
      "<class 'mediapipe.python.solution_base.SolutionOutputs'>\n",
      "<class 'mediapipe.python.solution_base.SolutionOutputs'>\n",
      "<class 'mediapipe.python.solution_base.SolutionOutputs'>\n",
      "<class 'mediapipe.python.solution_base.SolutionOutputs'>\n",
      "<class 'mediapipe.python.solution_base.SolutionOutputs'>\n",
      "<class 'mediapipe.python.solution_base.SolutionOutputs'>\n",
      "<class 'mediapipe.python.solution_base.SolutionOutputs'>\n",
      "<class 'mediapipe.python.solution_base.SolutionOutputs'>\n",
      "<class 'mediapipe.python.solution_base.SolutionOutputs'>\n",
      "<class 'mediapipe.python.solution_base.SolutionOutputs'>\n",
      "<class 'mediapipe.python.solution_base.SolutionOutputs'>\n",
      "<class 'mediapipe.python.solution_base.SolutionOutputs'>\n",
      "<class 'mediapipe.python.solution_base.SolutionOutputs'>\n",
      "<class 'mediapipe.python.solution_base.SolutionOutputs'>\n",
      "<class 'mediapipe.python.solution_base.SolutionOutputs'>\n",
      "<class 'mediapipe.python.solution_base.SolutionOutputs'>\n",
      "<class 'mediapipe.python.solution_base.SolutionOutputs'>\n",
      "<class 'mediapipe.python.solution_base.SolutionOutputs'>\n",
      "<class 'mediapipe.python.solution_base.SolutionOutputs'>\n",
      "<class 'mediapipe.python.solution_base.SolutionOutputs'>\n",
      "<class 'mediapipe.python.solution_base.SolutionOutputs'>\n"
     ]
    },
    {
     "ename": "KeyboardInterrupt",
     "evalue": "",
     "output_type": "error",
     "traceback": [
      "\u001b[1;31m---------------------------------------------------------------------------\u001b[0m",
      "\u001b[1;31mKeyboardInterrupt\u001b[0m                         Traceback (most recent call last)",
      "Cell \u001b[1;32mIn[29], line 5\u001b[0m\n\u001b[0;32m      3\u001b[0m \u001b[38;5;28;01mwhile\u001b[39;00m cap\u001b[38;5;241m.\u001b[39misOpened ():\n\u001b[0;32m      4\u001b[0m     ret, frame \u001b[38;5;241m=\u001b[39m cap\u001b[38;5;241m.\u001b[39mread()\n\u001b[1;32m----> 5\u001b[0m     image, results \u001b[38;5;241m=\u001b[39m \u001b[43mmediapipe_detection\u001b[49m\u001b[43m(\u001b[49m\u001b[43mframe\u001b[49m\u001b[43m,\u001b[49m\u001b[43m \u001b[49m\u001b[43mholistic\u001b[49m\u001b[43m)\u001b[49m\n\u001b[0;32m      6\u001b[0m     \u001b[38;5;28mprint\u001b[39m(results)\n\u001b[0;32m      7\u001b[0m     cv2\u001b[38;5;241m.\u001b[39m imshow(\u001b[38;5;124m'\u001b[39m\u001b[38;5;124mOpenCV Feed\u001b[39m\u001b[38;5;124m'\u001b[39m, frame)\n",
      "Cell \u001b[1;32mIn[20], line 6\u001b[0m, in \u001b[0;36mmediapipe_detection\u001b[1;34m(image, model)\u001b[0m\n\u001b[0;32m      4\u001b[0m results \u001b[38;5;241m=\u001b[39m model\u001b[38;5;241m.\u001b[39mprocess (image)\n\u001b[0;32m      5\u001b[0m image\u001b[38;5;241m.\u001b[39mflags\u001b[38;5;241m.\u001b[39mwriteable \u001b[38;5;241m=\u001b[39m \u001b[38;5;28;01mTrue\u001b[39;00m\n\u001b[1;32m----> 6\u001b[0m image \u001b[38;5;241m=\u001b[39m \u001b[43mcv2\u001b[49m\u001b[38;5;241;43m.\u001b[39;49m\u001b[43mcvtColor\u001b[49m\u001b[43m \u001b[49m\u001b[43m(\u001b[49m\u001b[43mimage\u001b[49m\u001b[43m,\u001b[49m\u001b[43m \u001b[49m\u001b[43mcv2\u001b[49m\u001b[38;5;241;43m.\u001b[39;49m\u001b[43mCOLOR_RGB2BGR\u001b[49m\u001b[43m)\u001b[49m\n\u001b[0;32m      7\u001b[0m \u001b[38;5;28;01mreturn\u001b[39;00m image, results\n",
      "\u001b[1;31mKeyboardInterrupt\u001b[0m: "
     ]
    }
   ],
   "source": [
    "cap = cv2.VideoCapture(0)\n",
    "with mp_holistic.Holistic(min_detection_confidence=0.5, min_tracking_confidence=0.5) as holistic:\n",
    "    while cap.isOpened ():\n",
    "        ret, frame = cap.read()\n",
    "        image, results = mediapipe_detection(frame, holistic)\n",
    "        print(results)\n",
    "        cv2. imshow('OpenCV Feed', frame)\n",
    "        if cv2.waitKey(10) & 0xFF == ord('q'):\n",
    "            break\n",
    "    cap.release()\n",
    "    cv2.destroyAllWindows ()"
   ]
  },
  {
   "cell_type": "code",
   "execution_count": 32,
   "id": "e4ec1fe3-2851-45b5-a82b-468b5c16134d",
   "metadata": {},
   "outputs": [
    {
     "data": {
      "text/plain": [
       "21"
      ]
     },
     "execution_count": 32,
     "metadata": {},
     "output_type": "execute_result"
    }
   ],
   "source": [
    "len(results.left_hand_landmarks.landmark)"
   ]
  },
  {
   "cell_type": "code",
   "execution_count": null,
   "id": "b8584d1c-d7ec-4a10-9019-ef94829a32a9",
   "metadata": {},
   "outputs": [],
   "source": []
  },
  {
   "cell_type": "code",
   "execution_count": null,
   "id": "d015dc72-4a8d-496b-b81e-f18a037aca56",
   "metadata": {},
   "outputs": [],
   "source": []
  }
 ],
 "metadata": {
  "kernelspec": {
   "display_name": "Python 3 (ipykernel)",
   "language": "python",
   "name": "python3"
  },
  "language_info": {
   "codemirror_mode": {
    "name": "ipython",
    "version": 3
   },
   "file_extension": ".py",
   "mimetype": "text/x-python",
   "name": "python",
   "nbconvert_exporter": "python",
   "pygments_lexer": "ipython3",
   "version": "3.10.10"
  }
 },
 "nbformat": 4,
 "nbformat_minor": 5
}
